{
  "nbformat": 4,
  "nbformat_minor": 0,
  "metadata": {
    "colab": {
      "provenance": [],
      "authorship_tag": "ABX9TyOISM2hIsz8QlEAJUi52lvp",
      "include_colab_link": true
    },
    "kernelspec": {
      "name": "python3",
      "display_name": "Python 3"
    },
    "language_info": {
      "name": "python"
    }
  },
  "cells": [
    {
      "cell_type": "markdown",
      "metadata": {
        "id": "view-in-github",
        "colab_type": "text"
      },
      "source": [
        "<a href=\"https://colab.research.google.com/github/VivekSalwan2000/Logistic-Regression-Diabetes/blob/main/COSC3P96_A1.ipynb\" target=\"_parent\"><img src=\"https://colab.research.google.com/assets/colab-badge.svg\" alt=\"Open In Colab\"/></a>"
      ]
    },
    {
      "cell_type": "markdown",
      "source": [
        "**Name:- Vivek Salwan**\n",
        "\n",
        "**Student ID:- 6951826**\n",
        "\n",
        "**Problem description:-** Develop a logistic regression classifier to predict whether a patient has diabetes, using the Pima Indians Diabetes Dataset. Implement the model from scratch using only basic Python libraries, such as NumPy and pandas, to gain a deeper understanding of the underlying mathematics and the gradient descent optimization technique.\n",
        "\n",
        "After constructing and evaluating our custom model using metrics like accuracy, precision, recall, F1-score, and AUC, we compare its performance to that of a logistic regression model built with scikit-learn."
      ],
      "metadata": {
        "id": "jHuzWwOvX73j"
      }
    },
    {
      "cell_type": "markdown",
      "source": [
        "Link for the Project: https://colab.research.google.com/drive/15PwupYkLvKTngIqQjcmBR1yhqmZ9ZCYF?usp=sharing"
      ],
      "metadata": {
        "id": "uGONFPPf_yiL"
      }
    },
    {
      "cell_type": "code",
      "execution_count": null,
      "metadata": {
        "id": "VyHIknSffTae"
      },
      "outputs": [],
      "source": [
        "import numpy as np\n",
        "import pandas as pd\n",
        "import matplotlib.pyplot as plt\n",
        "#For Final Comaprison Only\n",
        "from sklearn.linear_model import LogisticRegression"
      ]
    },
    {
      "cell_type": "markdown",
      "source": [
        "**Load and preview the Pima Indians Diabetes dataset from the URL**"
      ],
      "metadata": {
        "id": "uFz44HsLjOIL"
      }
    },
    {
      "cell_type": "code",
      "source": [
        "# Define the data URL and column names\n",
        "data_url = \"https://raw.githubusercontent.com/jbrownlee/Datasets/master/pima-indians-diabetes.data.csv\"\n",
        "columns = [\"Pregnancies\", \"Glucose\", \"BloodPressure\", \"SkinThickness\", \"Insulin\",\n",
        "           \"BMI\", \"DiabetesPedigreeFunction\", \"Age\", \"Outcome\"]\n",
        "\n",
        "# Load the dataset into a pandas DataFrame\n",
        "data = pd.read_csv(data_url, header=None, names=columns)\n",
        "data.head()\n"
      ],
      "metadata": {
        "colab": {
          "base_uri": "https://localhost:8080/",
          "height": 204
        },
        "id": "CPcPsZIQuX2E",
        "outputId": "590419e5-1d0d-41e9-8721-7304d6d22eab"
      },
      "execution_count": null,
      "outputs": [
        {
          "output_type": "execute_result",
          "data": {
            "text/plain": [
              "   Pregnancies  Glucose  BloodPressure  SkinThickness  Insulin   BMI  \\\n",
              "0            6      148             72             35        0  33.6   \n",
              "1            1       85             66             29        0  26.6   \n",
              "2            8      183             64              0        0  23.3   \n",
              "3            1       89             66             23       94  28.1   \n",
              "4            0      137             40             35      168  43.1   \n",
              "\n",
              "   DiabetesPedigreeFunction  Age  Outcome  \n",
              "0                     0.627   50        1  \n",
              "1                     0.351   31        0  \n",
              "2                     0.672   32        1  \n",
              "3                     0.167   21        0  \n",
              "4                     2.288   33        1  "
            ],
            "text/html": [
              "\n",
              "  <div id=\"df-3659a390-2589-4780-9f91-a279ab2b2456\" class=\"colab-df-container\">\n",
              "    <div>\n",
              "<style scoped>\n",
              "    .dataframe tbody tr th:only-of-type {\n",
              "        vertical-align: middle;\n",
              "    }\n",
              "\n",
              "    .dataframe tbody tr th {\n",
              "        vertical-align: top;\n",
              "    }\n",
              "\n",
              "    .dataframe thead th {\n",
              "        text-align: right;\n",
              "    }\n",
              "</style>\n",
              "<table border=\"1\" class=\"dataframe\">\n",
              "  <thead>\n",
              "    <tr style=\"text-align: right;\">\n",
              "      <th></th>\n",
              "      <th>Pregnancies</th>\n",
              "      <th>Glucose</th>\n",
              "      <th>BloodPressure</th>\n",
              "      <th>SkinThickness</th>\n",
              "      <th>Insulin</th>\n",
              "      <th>BMI</th>\n",
              "      <th>DiabetesPedigreeFunction</th>\n",
              "      <th>Age</th>\n",
              "      <th>Outcome</th>\n",
              "    </tr>\n",
              "  </thead>\n",
              "  <tbody>\n",
              "    <tr>\n",
              "      <th>0</th>\n",
              "      <td>6</td>\n",
              "      <td>148</td>\n",
              "      <td>72</td>\n",
              "      <td>35</td>\n",
              "      <td>0</td>\n",
              "      <td>33.6</td>\n",
              "      <td>0.627</td>\n",
              "      <td>50</td>\n",
              "      <td>1</td>\n",
              "    </tr>\n",
              "    <tr>\n",
              "      <th>1</th>\n",
              "      <td>1</td>\n",
              "      <td>85</td>\n",
              "      <td>66</td>\n",
              "      <td>29</td>\n",
              "      <td>0</td>\n",
              "      <td>26.6</td>\n",
              "      <td>0.351</td>\n",
              "      <td>31</td>\n",
              "      <td>0</td>\n",
              "    </tr>\n",
              "    <tr>\n",
              "      <th>2</th>\n",
              "      <td>8</td>\n",
              "      <td>183</td>\n",
              "      <td>64</td>\n",
              "      <td>0</td>\n",
              "      <td>0</td>\n",
              "      <td>23.3</td>\n",
              "      <td>0.672</td>\n",
              "      <td>32</td>\n",
              "      <td>1</td>\n",
              "    </tr>\n",
              "    <tr>\n",
              "      <th>3</th>\n",
              "      <td>1</td>\n",
              "      <td>89</td>\n",
              "      <td>66</td>\n",
              "      <td>23</td>\n",
              "      <td>94</td>\n",
              "      <td>28.1</td>\n",
              "      <td>0.167</td>\n",
              "      <td>21</td>\n",
              "      <td>0</td>\n",
              "    </tr>\n",
              "    <tr>\n",
              "      <th>4</th>\n",
              "      <td>0</td>\n",
              "      <td>137</td>\n",
              "      <td>40</td>\n",
              "      <td>35</td>\n",
              "      <td>168</td>\n",
              "      <td>43.1</td>\n",
              "      <td>2.288</td>\n",
              "      <td>33</td>\n",
              "      <td>1</td>\n",
              "    </tr>\n",
              "  </tbody>\n",
              "</table>\n",
              "</div>\n",
              "    <div class=\"colab-df-buttons\">\n",
              "\n",
              "  <div class=\"colab-df-container\">\n",
              "    <button class=\"colab-df-convert\" onclick=\"convertToInteractive('df-3659a390-2589-4780-9f91-a279ab2b2456')\"\n",
              "            title=\"Convert this dataframe to an interactive table.\"\n",
              "            style=\"display:none;\">\n",
              "\n",
              "  <svg xmlns=\"http://www.w3.org/2000/svg\" height=\"24px\" viewBox=\"0 -960 960 960\">\n",
              "    <path d=\"M120-120v-720h720v720H120Zm60-500h600v-160H180v160Zm220 220h160v-160H400v160Zm0 220h160v-160H400v160ZM180-400h160v-160H180v160Zm440 0h160v-160H620v160ZM180-180h160v-160H180v160Zm440 0h160v-160H620v160Z\"/>\n",
              "  </svg>\n",
              "    </button>\n",
              "\n",
              "  <style>\n",
              "    .colab-df-container {\n",
              "      display:flex;\n",
              "      gap: 12px;\n",
              "    }\n",
              "\n",
              "    .colab-df-convert {\n",
              "      background-color: #E8F0FE;\n",
              "      border: none;\n",
              "      border-radius: 50%;\n",
              "      cursor: pointer;\n",
              "      display: none;\n",
              "      fill: #1967D2;\n",
              "      height: 32px;\n",
              "      padding: 0 0 0 0;\n",
              "      width: 32px;\n",
              "    }\n",
              "\n",
              "    .colab-df-convert:hover {\n",
              "      background-color: #E2EBFA;\n",
              "      box-shadow: 0px 1px 2px rgba(60, 64, 67, 0.3), 0px 1px 3px 1px rgba(60, 64, 67, 0.15);\n",
              "      fill: #174EA6;\n",
              "    }\n",
              "\n",
              "    .colab-df-buttons div {\n",
              "      margin-bottom: 4px;\n",
              "    }\n",
              "\n",
              "    [theme=dark] .colab-df-convert {\n",
              "      background-color: #3B4455;\n",
              "      fill: #D2E3FC;\n",
              "    }\n",
              "\n",
              "    [theme=dark] .colab-df-convert:hover {\n",
              "      background-color: #434B5C;\n",
              "      box-shadow: 0px 1px 3px 1px rgba(0, 0, 0, 0.15);\n",
              "      filter: drop-shadow(0px 1px 2px rgba(0, 0, 0, 0.3));\n",
              "      fill: #FFFFFF;\n",
              "    }\n",
              "  </style>\n",
              "\n",
              "    <script>\n",
              "      const buttonEl =\n",
              "        document.querySelector('#df-3659a390-2589-4780-9f91-a279ab2b2456 button.colab-df-convert');\n",
              "      buttonEl.style.display =\n",
              "        google.colab.kernel.accessAllowed ? 'block' : 'none';\n",
              "\n",
              "      async function convertToInteractive(key) {\n",
              "        const element = document.querySelector('#df-3659a390-2589-4780-9f91-a279ab2b2456');\n",
              "        const dataTable =\n",
              "          await google.colab.kernel.invokeFunction('convertToInteractive',\n",
              "                                                    [key], {});\n",
              "        if (!dataTable) return;\n",
              "\n",
              "        const docLinkHtml = 'Like what you see? Visit the ' +\n",
              "          '<a target=\"_blank\" href=https://colab.research.google.com/notebooks/data_table.ipynb>data table notebook</a>'\n",
              "          + ' to learn more about interactive tables.';\n",
              "        element.innerHTML = '';\n",
              "        dataTable['output_type'] = 'display_data';\n",
              "        await google.colab.output.renderOutput(dataTable, element);\n",
              "        const docLink = document.createElement('div');\n",
              "        docLink.innerHTML = docLinkHtml;\n",
              "        element.appendChild(docLink);\n",
              "      }\n",
              "    </script>\n",
              "  </div>\n",
              "\n",
              "\n",
              "<div id=\"df-327f741c-816c-4a1f-b79e-6bf0ed64dc3f\">\n",
              "  <button class=\"colab-df-quickchart\" onclick=\"quickchart('df-327f741c-816c-4a1f-b79e-6bf0ed64dc3f')\"\n",
              "            title=\"Suggest charts\"\n",
              "            style=\"display:none;\">\n",
              "\n",
              "<svg xmlns=\"http://www.w3.org/2000/svg\" height=\"24px\"viewBox=\"0 0 24 24\"\n",
              "     width=\"24px\">\n",
              "    <g>\n",
              "        <path d=\"M19 3H5c-1.1 0-2 .9-2 2v14c0 1.1.9 2 2 2h14c1.1 0 2-.9 2-2V5c0-1.1-.9-2-2-2zM9 17H7v-7h2v7zm4 0h-2V7h2v10zm4 0h-2v-4h2v4z\"/>\n",
              "    </g>\n",
              "</svg>\n",
              "  </button>\n",
              "\n",
              "<style>\n",
              "  .colab-df-quickchart {\n",
              "      --bg-color: #E8F0FE;\n",
              "      --fill-color: #1967D2;\n",
              "      --hover-bg-color: #E2EBFA;\n",
              "      --hover-fill-color: #174EA6;\n",
              "      --disabled-fill-color: #AAA;\n",
              "      --disabled-bg-color: #DDD;\n",
              "  }\n",
              "\n",
              "  [theme=dark] .colab-df-quickchart {\n",
              "      --bg-color: #3B4455;\n",
              "      --fill-color: #D2E3FC;\n",
              "      --hover-bg-color: #434B5C;\n",
              "      --hover-fill-color: #FFFFFF;\n",
              "      --disabled-bg-color: #3B4455;\n",
              "      --disabled-fill-color: #666;\n",
              "  }\n",
              "\n",
              "  .colab-df-quickchart {\n",
              "    background-color: var(--bg-color);\n",
              "    border: none;\n",
              "    border-radius: 50%;\n",
              "    cursor: pointer;\n",
              "    display: none;\n",
              "    fill: var(--fill-color);\n",
              "    height: 32px;\n",
              "    padding: 0;\n",
              "    width: 32px;\n",
              "  }\n",
              "\n",
              "  .colab-df-quickchart:hover {\n",
              "    background-color: var(--hover-bg-color);\n",
              "    box-shadow: 0 1px 2px rgba(60, 64, 67, 0.3), 0 1px 3px 1px rgba(60, 64, 67, 0.15);\n",
              "    fill: var(--button-hover-fill-color);\n",
              "  }\n",
              "\n",
              "  .colab-df-quickchart-complete:disabled,\n",
              "  .colab-df-quickchart-complete:disabled:hover {\n",
              "    background-color: var(--disabled-bg-color);\n",
              "    fill: var(--disabled-fill-color);\n",
              "    box-shadow: none;\n",
              "  }\n",
              "\n",
              "  .colab-df-spinner {\n",
              "    border: 2px solid var(--fill-color);\n",
              "    border-color: transparent;\n",
              "    border-bottom-color: var(--fill-color);\n",
              "    animation:\n",
              "      spin 1s steps(1) infinite;\n",
              "  }\n",
              "\n",
              "  @keyframes spin {\n",
              "    0% {\n",
              "      border-color: transparent;\n",
              "      border-bottom-color: var(--fill-color);\n",
              "      border-left-color: var(--fill-color);\n",
              "    }\n",
              "    20% {\n",
              "      border-color: transparent;\n",
              "      border-left-color: var(--fill-color);\n",
              "      border-top-color: var(--fill-color);\n",
              "    }\n",
              "    30% {\n",
              "      border-color: transparent;\n",
              "      border-left-color: var(--fill-color);\n",
              "      border-top-color: var(--fill-color);\n",
              "      border-right-color: var(--fill-color);\n",
              "    }\n",
              "    40% {\n",
              "      border-color: transparent;\n",
              "      border-right-color: var(--fill-color);\n",
              "      border-top-color: var(--fill-color);\n",
              "    }\n",
              "    60% {\n",
              "      border-color: transparent;\n",
              "      border-right-color: var(--fill-color);\n",
              "    }\n",
              "    80% {\n",
              "      border-color: transparent;\n",
              "      border-right-color: var(--fill-color);\n",
              "      border-bottom-color: var(--fill-color);\n",
              "    }\n",
              "    90% {\n",
              "      border-color: transparent;\n",
              "      border-bottom-color: var(--fill-color);\n",
              "    }\n",
              "  }\n",
              "</style>\n",
              "\n",
              "  <script>\n",
              "    async function quickchart(key) {\n",
              "      const quickchartButtonEl =\n",
              "        document.querySelector('#' + key + ' button');\n",
              "      quickchartButtonEl.disabled = true;  // To prevent multiple clicks.\n",
              "      quickchartButtonEl.classList.add('colab-df-spinner');\n",
              "      try {\n",
              "        const charts = await google.colab.kernel.invokeFunction(\n",
              "            'suggestCharts', [key], {});\n",
              "      } catch (error) {\n",
              "        console.error('Error during call to suggestCharts:', error);\n",
              "      }\n",
              "      quickchartButtonEl.classList.remove('colab-df-spinner');\n",
              "      quickchartButtonEl.classList.add('colab-df-quickchart-complete');\n",
              "    }\n",
              "    (() => {\n",
              "      let quickchartButtonEl =\n",
              "        document.querySelector('#df-327f741c-816c-4a1f-b79e-6bf0ed64dc3f button');\n",
              "      quickchartButtonEl.style.display =\n",
              "        google.colab.kernel.accessAllowed ? 'block' : 'none';\n",
              "    })();\n",
              "  </script>\n",
              "</div>\n",
              "\n",
              "    </div>\n",
              "  </div>\n"
            ],
            "application/vnd.google.colaboratory.intrinsic+json": {
              "type": "dataframe",
              "variable_name": "data",
              "summary": "{\n  \"name\": \"data\",\n  \"rows\": 768,\n  \"fields\": [\n    {\n      \"column\": \"Pregnancies\",\n      \"properties\": {\n        \"dtype\": \"number\",\n        \"std\": 3,\n        \"min\": 0,\n        \"max\": 17,\n        \"num_unique_values\": 17,\n        \"samples\": [\n          6,\n          1,\n          3\n        ],\n        \"semantic_type\": \"\",\n        \"description\": \"\"\n      }\n    },\n    {\n      \"column\": \"Glucose\",\n      \"properties\": {\n        \"dtype\": \"number\",\n        \"std\": 31,\n        \"min\": 0,\n        \"max\": 199,\n        \"num_unique_values\": 136,\n        \"samples\": [\n          151,\n          101,\n          112\n        ],\n        \"semantic_type\": \"\",\n        \"description\": \"\"\n      }\n    },\n    {\n      \"column\": \"BloodPressure\",\n      \"properties\": {\n        \"dtype\": \"number\",\n        \"std\": 19,\n        \"min\": 0,\n        \"max\": 122,\n        \"num_unique_values\": 47,\n        \"samples\": [\n          86,\n          46,\n          85\n        ],\n        \"semantic_type\": \"\",\n        \"description\": \"\"\n      }\n    },\n    {\n      \"column\": \"SkinThickness\",\n      \"properties\": {\n        \"dtype\": \"number\",\n        \"std\": 15,\n        \"min\": 0,\n        \"max\": 99,\n        \"num_unique_values\": 51,\n        \"samples\": [\n          7,\n          12,\n          48\n        ],\n        \"semantic_type\": \"\",\n        \"description\": \"\"\n      }\n    },\n    {\n      \"column\": \"Insulin\",\n      \"properties\": {\n        \"dtype\": \"number\",\n        \"std\": 115,\n        \"min\": 0,\n        \"max\": 846,\n        \"num_unique_values\": 186,\n        \"samples\": [\n          52,\n          41,\n          183\n        ],\n        \"semantic_type\": \"\",\n        \"description\": \"\"\n      }\n    },\n    {\n      \"column\": \"BMI\",\n      \"properties\": {\n        \"dtype\": \"number\",\n        \"std\": 7.8841603203754405,\n        \"min\": 0.0,\n        \"max\": 67.1,\n        \"num_unique_values\": 248,\n        \"samples\": [\n          19.9,\n          31.0,\n          38.1\n        ],\n        \"semantic_type\": \"\",\n        \"description\": \"\"\n      }\n    },\n    {\n      \"column\": \"DiabetesPedigreeFunction\",\n      \"properties\": {\n        \"dtype\": \"number\",\n        \"std\": 0.33132859501277484,\n        \"min\": 0.078,\n        \"max\": 2.42,\n        \"num_unique_values\": 517,\n        \"samples\": [\n          1.731,\n          0.426,\n          0.138\n        ],\n        \"semantic_type\": \"\",\n        \"description\": \"\"\n      }\n    },\n    {\n      \"column\": \"Age\",\n      \"properties\": {\n        \"dtype\": \"number\",\n        \"std\": 11,\n        \"min\": 21,\n        \"max\": 81,\n        \"num_unique_values\": 52,\n        \"samples\": [\n          60,\n          47,\n          72\n        ],\n        \"semantic_type\": \"\",\n        \"description\": \"\"\n      }\n    },\n    {\n      \"column\": \"Outcome\",\n      \"properties\": {\n        \"dtype\": \"number\",\n        \"std\": 0,\n        \"min\": 0,\n        \"max\": 1,\n        \"num_unique_values\": 2,\n        \"samples\": [\n          0,\n          1\n        ],\n        \"semantic_type\": \"\",\n        \"description\": \"\"\n      }\n    }\n  ]\n}"
            }
          },
          "metadata": {},
          "execution_count": 34
        }
      ]
    },
    {
      "cell_type": "markdown",
      "source": [
        "**Replacing invalid zero values with NaN and impute missing values with column medians, then display missing value counts.**"
      ],
      "metadata": {
        "id": "z4iCvzp9jugz"
      }
    },
    {
      "cell_type": "code",
      "source": [
        "# List of columns where 0 is an invalid value\n",
        "cols_invalid_zero = [\"Glucose\", \"BloodPressure\", \"SkinThickness\", \"Insulin\", \"BMI\"]\n",
        "\n",
        "# Replace zeros with NaN and then impute with the column median\n",
        "for col in cols_invalid_zero:\n",
        "    data[col] = data[col].replace(0, np.nan)\n",
        "    median_val = data[col].median()\n",
        "    data[col] = data[col].fillna(median_val)\n",
        "\n",
        "print(\"\\nMissing values per column after imputation:\")\n",
        "data.isnull().sum()"
      ],
      "metadata": {
        "colab": {
          "base_uri": "https://localhost:8080/",
          "height": 396
        },
        "id": "GYgQsdHYviX7",
        "outputId": "ad7cb94f-3ae9-4b6f-b886-3418b2373341"
      },
      "execution_count": null,
      "outputs": [
        {
          "output_type": "stream",
          "name": "stdout",
          "text": [
            "\n",
            "Missing values per column after imputation:\n"
          ]
        },
        {
          "output_type": "execute_result",
          "data": {
            "text/plain": [
              "Pregnancies                 0\n",
              "Glucose                     0\n",
              "BloodPressure               0\n",
              "SkinThickness               0\n",
              "Insulin                     0\n",
              "BMI                         0\n",
              "DiabetesPedigreeFunction    0\n",
              "Age                         0\n",
              "Outcome                     0\n",
              "dtype: int64"
            ],
            "text/html": [
              "<div>\n",
              "<style scoped>\n",
              "    .dataframe tbody tr th:only-of-type {\n",
              "        vertical-align: middle;\n",
              "    }\n",
              "\n",
              "    .dataframe tbody tr th {\n",
              "        vertical-align: top;\n",
              "    }\n",
              "\n",
              "    .dataframe thead th {\n",
              "        text-align: right;\n",
              "    }\n",
              "</style>\n",
              "<table border=\"1\" class=\"dataframe\">\n",
              "  <thead>\n",
              "    <tr style=\"text-align: right;\">\n",
              "      <th></th>\n",
              "      <th>0</th>\n",
              "    </tr>\n",
              "  </thead>\n",
              "  <tbody>\n",
              "    <tr>\n",
              "      <th>Pregnancies</th>\n",
              "      <td>0</td>\n",
              "    </tr>\n",
              "    <tr>\n",
              "      <th>Glucose</th>\n",
              "      <td>0</td>\n",
              "    </tr>\n",
              "    <tr>\n",
              "      <th>BloodPressure</th>\n",
              "      <td>0</td>\n",
              "    </tr>\n",
              "    <tr>\n",
              "      <th>SkinThickness</th>\n",
              "      <td>0</td>\n",
              "    </tr>\n",
              "    <tr>\n",
              "      <th>Insulin</th>\n",
              "      <td>0</td>\n",
              "    </tr>\n",
              "    <tr>\n",
              "      <th>BMI</th>\n",
              "      <td>0</td>\n",
              "    </tr>\n",
              "    <tr>\n",
              "      <th>DiabetesPedigreeFunction</th>\n",
              "      <td>0</td>\n",
              "    </tr>\n",
              "    <tr>\n",
              "      <th>Age</th>\n",
              "      <td>0</td>\n",
              "    </tr>\n",
              "    <tr>\n",
              "      <th>Outcome</th>\n",
              "      <td>0</td>\n",
              "    </tr>\n",
              "  </tbody>\n",
              "</table>\n",
              "</div><br><label><b>dtype:</b> int64</label>"
            ]
          },
          "metadata": {},
          "execution_count": 35
        }
      ]
    },
    {
      "cell_type": "markdown",
      "source": [
        "**Extract input features (X) and target variable (y) from the dataset.**"
      ],
      "metadata": {
        "id": "RwhNds67j8yo"
      }
    },
    {
      "cell_type": "code",
      "source": [
        "# Separate input features (X) and target (y)\n",
        "X = data.drop(\"Outcome\", axis=1).values   # shape: (m, n)\n",
        "y = data[\"Outcome\"].values                # shape: (m,)"
      ],
      "metadata": {
        "id": "DTGkER3f7Az_"
      },
      "execution_count": null,
      "outputs": []
    },
    {
      "cell_type": "markdown",
      "source": [
        "**Manually shuffle and split the dataset into 80% training and 20% testing sets.**"
      ],
      "metadata": {
        "id": "d9_JbwCVkK6M"
      }
    },
    {
      "cell_type": "code",
      "source": [
        "def train_test_split_manual(X, y, test_size=0.2, random_state=None):\n",
        "    \"\"\"\n",
        "    Splits the data into training and testing sets.\n",
        "    \"\"\"\n",
        "    if random_state is not None:\n",
        "        np.random.seed(random_state)\n",
        "    m = X.shape[0]\n",
        "    indices = np.random.permutation(m)\n",
        "    test_count = int(m * test_size)\n",
        "    test_idx = indices[:test_count]\n",
        "    train_idx = indices[test_count:]\n",
        "    return X[train_idx], X[test_idx], y[train_idx], y[test_idx]\n",
        "\n",
        "# Split the data: 80% training, 20% testing\n",
        "X_train, X_test, y_train, y_test = train_test_split_manual(X, y, test_size=0.2, random_state=42)\n"
      ],
      "metadata": {
        "id": "AKkQ-lDn7plt"
      },
      "execution_count": null,
      "outputs": []
    },
    {
      "cell_type": "markdown",
      "source": [
        "**Standardize the training data and apply the same mean and standard deviation to the test data.**"
      ],
      "metadata": {
        "id": "WMtwgZSblZHG"
      }
    },
    {
      "cell_type": "code",
      "source": [
        "def standardize(X, mean=None, std=None):\n",
        "    \"\"\"\n",
        "    Standardizes the dataset.\n",
        "    If mean and std are not provided, they are computed from X.\n",
        "    \"\"\"\n",
        "    if mean is None:\n",
        "        mean = np.mean(X, axis=0)\n",
        "    if std is None:\n",
        "        std = np.std(X, axis=0)\n",
        "    return (X - mean) / std, mean, std\n",
        "\n",
        "# Standardize the training data and use the same parameters to transform test data\n",
        "X_train_std, train_mean, train_std = standardize(X_train)\n",
        "X_test_std, _, _ = standardize(X_test, train_mean, train_std)\n"
      ],
      "metadata": {
        "id": "9kN5GT9d73hq"
      },
      "execution_count": null,
      "outputs": []
    },
    {
      "cell_type": "markdown",
      "source": [
        "**Add a bias column (ones) to the standardized training and testing data to account for the intercept.**"
      ],
      "metadata": {
        "id": "u1Lx2x5Klu-x"
      }
    },
    {
      "cell_type": "code",
      "source": [
        "def add_bias(X):\n",
        "    \"\"\"\n",
        "    Adds a column of ones to X for the bias term.\n",
        "    \"\"\"\n",
        "    m = X.shape[0]\n",
        "    bias = np.ones((m, 1))\n",
        "    return np.hstack([bias, X])\n",
        "\n",
        "X_train_bias = add_bias(X_train_std)\n",
        "X_test_bias = add_bias(X_test_std)\n"
      ],
      "metadata": {
        "id": "ec9Ek67879OZ"
      },
      "execution_count": null,
      "outputs": []
    },
    {
      "cell_type": "markdown",
      "source": [
        "**Sigmoid Function:**  \n",
        "$$\\sigma(z) = \\frac{1}{1 + e^{-z}}$$\n"
      ],
      "metadata": {
        "id": "JFk3su3bmHBP"
      }
    },
    {
      "cell_type": "code",
      "source": [
        "def sigmoid(z):\n",
        "    \"\"\"\n",
        "    Computes the sigmoid function.\n",
        "    \"\"\"\n",
        "    return 1 / (1 + np.exp(-z))\n"
      ],
      "metadata": {
        "id": "ZyAR233H8Cmn"
      },
      "execution_count": null,
      "outputs": []
    },
    {
      "cell_type": "markdown",
      "source": [
        "**Binary Cross-Entropy Cost Function:**  \n",
        "$$\n",
        "J(\\theta) = -\\frac{1}{m} \\sum_{i=1}^{m} \\Biggl[ y^{(i)} \\log\\Bigl( h_\\theta\\bigl(x^{(i)}\\bigr) \\Bigr) + \\Bigl( 1 - y^{(i)} \\Bigr) \\log\\Bigl( 1 - h_\\theta\\bigl(x^{(i)}\\bigr) \\Bigr) \\Biggr]\n",
        "$$\n"
      ],
      "metadata": {
        "id": "tliDryV3nKp8"
      }
    },
    {
      "cell_type": "code",
      "source": [
        "def compute_cost(X, y, weights):\n",
        "    \"\"\"\n",
        "    Computes the binary cross-entropy cost.\n",
        "    \"\"\"\n",
        "    m = len(y)\n",
        "    h = sigmoid(np.dot(X, weights))\n",
        "    epsilon = 1e-7  # To prevent log(0)\n",
        "    cost = -(1/m) * np.sum(y * np.log(h + epsilon) + (1 - y) * np.log(1 - h + epsilon))\n",
        "    return cost\n"
      ],
      "metadata": {
        "id": "Np68n55S_qd2"
      },
      "execution_count": null,
      "outputs": []
    },
    {
      "cell_type": "markdown",
      "source": [
        "**Gradient Descent for Logistic Regression**\n",
        "\n",
        "The weights are updated iteratively using the following rule:\n",
        "\n",
        "$$\n",
        "\\theta := \\theta - \\alpha \\frac{1}{m} X^T \\left( \\sigma(X\\theta) - y \\right)\n",
        "$$\n",
        "\n",
        "This code implements gradient descent for logistic regression by iteratively updating the weights: it computes predictions using the sigmoid function, calculates the gradient of the binary cross-entropy loss, and updates the weights accordingly. The process tracks the cost over iterations and stops early if convergence is detected, returning the final weights and cost history.\n"
      ],
      "metadata": {
        "id": "tXxNBJ6AojlT"
      }
    },
    {
      "cell_type": "code",
      "source": [
        "def gradient_descent(X, y, weights, learning_rate=0.01, num_iterations=10000):\n",
        "    \"\"\"\n",
        "    Performs gradient descent to optimize weights.\n",
        "    Returns the final weights and the history of cost values.\n",
        "    \"\"\"\n",
        "    m = len(y)\n",
        "    cost_history = []\n",
        "\n",
        "    for i in range(num_iterations):\n",
        "        h = sigmoid(np.dot(X, weights))\n",
        "        gradient = np.dot(X.T, (h - y)) / m\n",
        "        weights = weights - learning_rate * gradient\n",
        "\n",
        "        cost = compute_cost(X, y, weights)\n",
        "        cost_history.append(cost)\n",
        "\n",
        "        # Check for convergence (if change in cost is negligible)\n",
        "        if i > 0 and np.abs(cost_history[-2] - cost_history[-1]) < 1e-6:\n",
        "            print(f\"Convergence reached at iteration {i}\")\n",
        "            break\n",
        "\n",
        "    return weights, cost_history\n",
        "\n",
        "# Initialize weights (number of features + bias term)\n",
        "n_features = X_train_bias.shape[1]\n",
        "weights_init = np.zeros(n_features)\n",
        "\n",
        "# Train the logistic regression model using gradient descent\n",
        "weights, cost_history = gradient_descent(X_train_bias, y_train, weights_init,\n",
        "                                         learning_rate=0.01, num_iterations=10000)\n",
        "print(\"\\nFinal weights from custom implementation:\")\n",
        "print(weights)\n"
      ],
      "metadata": {
        "colab": {
          "base_uri": "https://localhost:8080/"
        },
        "id": "hpEQaRm0_sB-",
        "outputId": "ae13e07a-4bff-405c-9213-f6c52a2f49be"
      },
      "execution_count": null,
      "outputs": [
        {
          "output_type": "stream",
          "name": "stdout",
          "text": [
            "Convergence reached at iteration 2877\n",
            "\n",
            "Final weights from custom implementation:\n",
            "[-0.84717658  0.2209877   1.04560336 -0.10873367  0.10088287 -0.08943341\n",
            "  0.6146104   0.2010552   0.36666426]\n"
          ]
        }
      ]
    },
    {
      "cell_type": "markdown",
      "source": [
        "**Plot the cost over iterations to visualize the convergence of the gradient descent algorithm.**"
      ],
      "metadata": {
        "id": "kfo-lGYntILt"
      }
    },
    {
      "cell_type": "code",
      "source": [
        "plt.figure(figsize=(8, 5))\n",
        "plt.plot(cost_history)\n",
        "plt.xlabel(\"Iterations\")\n",
        "plt.ylabel(\"Cost\")\n",
        "plt.title(\"Loss vs. Iterations\")\n",
        "plt.grid(True)\n",
        "plt.show()\n"
      ],
      "metadata": {
        "colab": {
          "base_uri": "https://localhost:8080/",
          "height": 487
        },
        "id": "ZlM5FzWU_-gL",
        "outputId": "97733bad-a50f-41a1-c1e0-bd88a90949ea"
      },
      "execution_count": null,
      "outputs": [
        {
          "output_type": "display_data",
          "data": {
            "text/plain": [
              "<Figure size 800x500 with 1 Axes>"
            ],
            "image/png": "[encoded data removed]"
          },
          "metadata": {}
        }
      ]
    },
    {
      "cell_type": "markdown",
      "source": [
        "C**ompute prediction probabilities with the sigmoid function and convert them to binary labels using a threshold.**"
      ],
      "metadata": {
        "id": "mE_YC4r4taOT"
      }
    },
    {
      "cell_type": "code",
      "source": [
        "def predict(X, weights, threshold=0.5):\n",
        "    \"\"\"\n",
        "    Predicts binary labels based on the learned weights.\n",
        "    Returns the binary predictions and the computed probabilities.\n",
        "    \"\"\"\n",
        "    probabilities = sigmoid(np.dot(X, weights))\n",
        "    return (probabilities >= threshold).astype(int), probabilities\n"
      ],
      "metadata": {
        "id": "dZD9voMLATys"
      },
      "execution_count": null,
      "outputs": []
    },
    {
      "cell_type": "markdown",
      "source": [
        "**Generate binary predictions and probability scores for the test set using the trained model.**"
      ],
      "metadata": {
        "id": "lxULmpDStnJ4"
      }
    },
    {
      "cell_type": "code",
      "source": [
        "y_pred, y_scores = predict(X_test_bias, weights)"
      ],
      "metadata": {
        "id": "62yDuWE0AW8I"
      },
      "execution_count": null,
      "outputs": []
    },
    {
      "cell_type": "markdown",
      "source": [
        "**Compute and display evaluation metrics (accuracy, precision, recall, F1-score, and confusion matrix) for the custom model.**"
      ],
      "metadata": {
        "id": "A3vdEbK0t1TF"
      }
    },
    {
      "cell_type": "code",
      "source": [
        "def compute_metrics(y_true, y_pred):\n",
        "    \"\"\"\n",
        "    Computes evaluation metrics: accuracy, precision, recall, F1-score, and confusion matrix.\n",
        "    \"\"\"\n",
        "    tp = np.sum((y_true == 1) & (y_pred == 1))\n",
        "    tn = np.sum((y_true == 0) & (y_pred == 0))\n",
        "    fp = np.sum((y_true == 0) & (y_pred == 1))\n",
        "    fn = np.sum((y_true == 1) & (y_pred == 0))\n",
        "\n",
        "    accuracy = (tp + tn) / len(y_true)\n",
        "    precision = tp / (tp + fp) if (tp + fp) != 0 else 0\n",
        "    recall = tp / (tp + fn) if (tp + fn) != 0 else 0\n",
        "    f1 = 2 * precision * recall / (precision + recall) if (precision + recall) != 0 else 0\n",
        "\n",
        "    conf_matrix = np.array([[tn, fp],\n",
        "                            [fn, tp]])\n",
        "    return accuracy, precision, recall, f1, conf_matrix\n",
        "\n",
        "accuracy, precision, recall, f1, conf_matrix = compute_metrics(y_test, y_pred)\n",
        "print(\"\\nCustom Logistic Regression Model Performance:\")\n",
        "print(\"Accuracy :\", accuracy)\n",
        "print(\"Precision:\", precision)\n",
        "print(\"Recall   :\", recall)\n",
        "print(\"F1 Score :\", f1)\n",
        "print(\"Confusion Matrix:\\n\", conf_matrix)"
      ],
      "metadata": {
        "colab": {
          "base_uri": "https://localhost:8080/"
        },
        "id": "26YiQnSCAdW6",
        "outputId": "bd7c8ef8-cbe0-42dd-f365-ad4534ffbe2a"
      },
      "execution_count": null,
      "outputs": [
        {
          "output_type": "stream",
          "name": "stdout",
          "text": [
            "\n",
            "Custom Logistic Regression Model Performance:\n",
            "Accuracy : 0.7647058823529411\n",
            "Precision: 0.6938775510204082\n",
            "Recall   : 0.6181818181818182\n",
            "F1 Score : 0.6538461538461539\n",
            "Confusion Matrix:\n",
            " [[83 15]\n",
            " [21 34]]\n"
          ]
        }
      ]
    },
    {
      "cell_type": "markdown",
      "source": [
        "**Compute and plot the ROC curve, then calculate the AUC for the custom logistic regression model.**"
      ],
      "metadata": {
        "id": "Jh48vIXruAhU"
      }
    },
    {
      "cell_type": "code",
      "source": [
        "def compute_roc(y_true, y_scores, num_thresholds=100):\n",
        "    \"\"\"\n",
        "    Computes TPR and FPR for a range of thresholds.\n",
        "    \"\"\"\n",
        "    thresholds = np.linspace(0, 1, num_thresholds)\n",
        "    tpr_list = []\n",
        "    fpr_list = []\n",
        "\n",
        "    for thresh in thresholds:\n",
        "        y_pred_thresh = (y_scores >= thresh).astype(int)\n",
        "        tp = np.sum((y_true == 1) & (y_pred_thresh == 1))\n",
        "        tn = np.sum((y_true == 0) & (y_pred_thresh == 0))\n",
        "        fp = np.sum((y_true == 0) & (y_pred_thresh == 1))\n",
        "        fn = np.sum((y_true == 1) & (y_pred_thresh == 0))\n",
        "\n",
        "        tpr = tp / (tp + fn) if (tp + fn) != 0 else 0  # Sensitivity\n",
        "        fpr = fp / (fp + tn) if (fp + tn) != 0 else 0\n",
        "        tpr_list.append(tpr)\n",
        "        fpr_list.append(fpr)\n",
        "\n",
        "    return np.array(fpr_list), np.array(tpr_list), thresholds\n",
        "\n",
        "fpr, tpr, thresholds = compute_roc(y_test, y_scores, num_thresholds=100)\n",
        "\n",
        "# Plot the ROC curve\n",
        "plt.figure(figsize=(8, 5))\n",
        "plt.plot(fpr, tpr, marker='.', label=\"Custom Logistic Regression\")\n",
        "plt.plot([0, 1], [0, 1], 'k--', label=\"Random Guess\")\n",
        "plt.xlabel(\"False Positive Rate\")\n",
        "plt.ylabel(\"True Positive Rate\")\n",
        "plt.title(\"ROC Curve\")\n",
        "plt.legend()\n",
        "plt.show()\n",
        "\n",
        "# using the trapezoidal rule\n",
        "auc_value = np.trapz(tpr, fpr)\n",
        "print(\"Custom Model AUC:\", auc_value)"
      ],
      "metadata": {
        "colab": {
          "base_uri": "https://localhost:8080/",
          "height": 504
        },
        "id": "OWXsJ1jRAjKe",
        "outputId": "16ba6924-6a99-4510-eddd-56d598a88e2d"
      },
      "execution_count": null,
      "outputs": [
        {
          "output_type": "display_data",
          "data": {
            "text/plain": [
              "<Figure size 800x500 with 1 Axes>"
            ],
            "image/png": "[encoded data removed]"
          },
          "metadata": {}
        },
        {
          "output_type": "stream",
          "name": "stdout",
          "text": [
            "Custom Model AUC: -0.8221706864564007\n"
          ]
        }
      ]
    },
    {
      "cell_type": "markdown",
      "source": [
        "**Train and evaluate a scikit-learn logistic regression model, then compare its performance (metrics and ROC curve) with the custom implementation.**"
      ],
      "metadata": {
        "id": "PcpDN3EWxDNb"
      }
    },
    {
      "cell_type": "code",
      "source": [
        "# training a scikit-learn logistic regression model.\n",
        "# We use the standardized data without the manually added bias term,\n",
        "# because scikit-learn handles the intercept internally.\n",
        "sk_model = LogisticRegression(solver='liblinear', random_state=42)\n",
        "sk_model.fit(X_train_std, y_train)\n",
        "\n",
        "# Get predictions and probabilities from the scikit-learn model.\n",
        "y_pred_sk = sk_model.predict(X_test_std)\n",
        "y_prob_sk = sk_model.predict_proba(X_test_std)[:, 1]\n",
        "\n",
        "# Compute evaluation metrics for the scikit-learn model using our custom metric function.\n",
        "accuracy_sk, precision_sk, recall_sk, f1_sk, conf_matrix_sk = compute_metrics(y_test, y_pred_sk)\n",
        "print(\"\\nscikit-learn Logistic Regression Model Performance:\")\n",
        "print(\"Accuracy :\", accuracy_sk)\n",
        "print(\"Precision:\", precision_sk)\n",
        "print(\"Recall   :\", recall_sk)\n",
        "print(\"F1 Score :\", f1_sk)\n",
        "print(\"Confusion Matrix:\\n\", conf_matrix_sk)\n",
        "\n",
        "# Compute ROC and AUC for the scikit-learn model.\n",
        "fpr_sk, tpr_sk, _ = compute_roc(y_test, y_prob_sk, num_thresholds=100)\n",
        "auc_sk = np.trapz(tpr_sk, fpr_sk)\n",
        "print(\"scikit-learn Model AUC:\", auc_sk)\n",
        "\n",
        "# Plot both ROC curves together.\n",
        "plt.figure(figsize=(8, 5))\n",
        "plt.plot(fpr, tpr, marker='.', label=\"Custom Logistic Regression\")\n",
        "plt.plot(fpr_sk, tpr_sk, marker='.', label=\"scikit-learn Logistic Regression\")\n",
        "plt.plot([0, 1], [0, 1], 'k--', label=\"Random Guess\")\n",
        "plt.xlabel(\"False Positive Rate\")\n",
        "plt.ylabel(\"True Positive Rate\")\n",
        "plt.title(\"ROC Curve Comparison\")\n",
        "plt.legend()\n",
        "plt.show()\n"
      ],
      "metadata": {
        "colab": {
          "base_uri": "https://localhost:8080/",
          "height": 657
        },
        "id": "uyODA4iZBOjb",
        "outputId": "72e97c17-fd2a-44bf-fe05-dce8318bbbce"
      },
      "execution_count": null,
      "outputs": [
        {
          "output_type": "stream",
          "name": "stdout",
          "text": [
            "\n",
            "scikit-learn Logistic Regression Model Performance:\n",
            "Accuracy : 0.7516339869281046\n",
            "Precision: 0.6666666666666666\n",
            "Recall   : 0.6181818181818182\n",
            "F1 Score : 0.6415094339622642\n",
            "Confusion Matrix:\n",
            " [[81 17]\n",
            " [21 34]]\n",
            "scikit-learn Model AUC: -0.8208719851576995\n"
          ]
        },
        {
          "output_type": "display_data",
          "data": {
            "text/plain": [
              "<Figure size 800x500 with 1 Axes>"
            ],
            "image/png": "[encoded data removed]"
          },
          "metadata": {}
        }
      ]
    },
    {
      "cell_type": "markdown",
      "source": [
        "**Training & Evaluation Results: Custom vs. Scikit-Learn Logistic Regression**\n",
        "\n",
        "## **Model Performance Metrics**\n",
        "| Metric        | Custom Model | Scikit-Learn |\n",
        "|--------------|-------------|--------------|\n",
        "| **Accuracy**  | 76.47%      | 75.16%       |\n",
        "| **Precision** | 69.39%      | 66.67%       |\n",
        "| **Recall**    | 61.81%      | 61.81%       |\n",
        "| **F1 Score**  | 65.38%      | 64.15%       |\n",
        "\n",
        "The **custom model performed slightly better**, with higher accuracy and precision.\n",
        "\n",
        "Both models had the **same recall**, meaning they detected similar proportions of diabetes cases.\n",
        "\n",
        "## **Confusion Matrix & ROC Curve**\n",
        "**Custom model had fewer false positives** than scikit-learn.\n",
        "**AUC values** were almost identical (**0.822 vs. 0.820**), confirming similar performance.\n",
        "The **ROC curves overlapped**, meaning both models classified similarly.\n",
        "\n",
        "## **Insights & Challenges**\n",
        "**Gradient descent optimized well**, closely matching scikit-learn's optimizer.\n",
        "**Feature scaling was crucial** for stable training.\n",
        "**Choosing the right learning rate** was key to preventing slow convergence or oscillations. Without using **train_test_split** from scikit-learn, we had to manually shuffle and split data which took some time to implement.\n",
        "\n",
        "## **Conclusion**\n",
        "Implementing logistic regression from scratch provided valuable insights into model training, optimization, and evaluation. Despite facing challenges such as numerical stability, hyperparameter tuning, and manual gradient descent, our custom model performed closely to scikit-learn's, demonstrating the effectiveness of fundamental machine learning concepts. Overall, this hands-on approach enhanced our understanding of logistic regression beyond simply using pre-built libraries.\n"
      ],
      "metadata": {
        "id": "XGB2g1FWz6Vw"
      }
    },
    {
      "cell_type": "markdown",
      "source": [
        "**Prompt user for feature values to predict diabetes**"
      ],
      "metadata": {
        "id": "Bs503-baxow9"
      }
    },
    {
      "cell_type": "code",
      "source": [
        "def user_input_prediction():\n",
        "    \"\"\"\n",
        "    Prompts the user to input feature values and outputs a diabetes prediction.\n",
        "    \"\"\"\n",
        "    print(\"Enter the following feature values:\")\n",
        "    input_features = []\n",
        "    for feature in columns[:-1]:  # Exclude the 'Outcome'\n",
        "        val = float(input(f\"{feature}: \"))\n",
        "        input_features.append(val)\n",
        "\n",
        "    # Convert the list to a NumPy array and reshape it to (1, n)\n",
        "    input_arr = np.array(input_features).reshape(1, -1)\n",
        "\n",
        "    # Standardize using the training set parameters\n",
        "    input_std = (input_arr - train_mean) / train_std\n",
        "\n",
        "    # Add the bias term\n",
        "    input_bias = add_bias(input_std)\n",
        "\n",
        "    # Make prediction\n",
        "    prediction, probability = predict(input_bias, weights)\n",
        "    result = \"Diabetes\" if prediction[0] == 1 else \"No Diabetes\"\n",
        "    print(\"Prediction:\", result, \"| Probability:\", probability[0])\n",
        "\n",
        "# To test the user input function\n",
        "user_input_prediction()\n"
      ],
      "metadata": {
        "colab": {
          "base_uri": "https://localhost:8080/"
        },
        "id": "V0ZkIj2OBUAV",
        "outputId": "927af5a3-1333-4ed2-d3e5-cf78acde6c76"
      },
      "execution_count": null,
      "outputs": [
        {
          "output_type": "stream",
          "name": "stdout",
          "text": [
            "Enter the following feature values:\n",
            "Pregnancies: 6\n",
            "Glucose: 148\n",
            "BloodPressure: 72\n",
            "SkinThickness: 35\n",
            "Insulin: 0\n",
            "BMI: 33.6\n",
            "DiabetesPedigreeFunction: 0.627\n",
            "Age: 50\n",
            "Prediction: Diabetes | Probability: 0.7657281057286786\n"
          ]
        }
      ]
    }
  ]
}